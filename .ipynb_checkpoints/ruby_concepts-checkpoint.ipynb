{
 "cells": [
  {
   "cell_type": "markdown",
   "metadata": {},
   "source": [
    "# Ruby Concepts\n",
    "\n",
    "This notebook is to help break down certain Ruby concepts in a way that helps interalize it by showing the progression of steps."
   ]
  },
  {
   "cell_type": "markdown",
   "metadata": {},
   "source": [
    "## How to pass objects between classes, or have one class execute methods on another class's object"
   ]
  },
  {
   "cell_type": "markdown",
   "metadata": {},
   "source": [
    "Let's say we have two classes, `Laptop` and `Program`."
   ]
  },
  {
   "cell_type": "code",
   "execution_count": null,
   "metadata": {},
   "outputs": [],
   "source": [
    "class Laptop\n",
    "    attr_accessor :current_program\n",
    "    \n",
    "    def initialize\n",
    "        # Initializing without passing any object in yet\n",
    "        @current_program = \"\"\n",
    "    end\n",
    "    \n",
    "    def print_OS_message_and_program_message(program)\n",
    "        p = program\n",
    "        puts \"The argument passed in is a '#{p.class}' class.\"\n",
    "        p.print_program_message\n",
    "        puts \"This is output defined in the 'Laptop' class.\"\n",
    "        @current_program = p.class.to_s\n",
    "    end\n",
    "end\n",
    "\n",
    "class Program\n",
    "    attr_accessor :message\n",
    "    \n",
    "    def initialize\n",
    "        @message = \"This is output defined in the 'Program' class.\"\n",
    "    end\n",
    "    \n",
    "    def print_program_message\n",
    "        puts @message\n",
    "    end\n",
    "end"
   ]
  },
  {
   "cell_type": "markdown",
   "metadata": {},
   "source": [
    "We may use a `Laptop` object to execute commands, but these commands may need to access a `Program` object to get data from it or do something to a given instance of it.\n",
    "\n",
    "### Problem\n",
    "* How do you access an object's instance methods from within another class when that other class is not instantiated with an argument that passes in the desired object as an argument?\n",
    "\n",
    "### Solution\n",
    "* Pass the desired object into any method of the other class as an argument for that method. That object's instance methods are now able to be called within the other class's methods that had that object passed in."
   ]
  },
  {
   "cell_type": "code",
   "execution_count": 21,
   "metadata": {},
   "outputs": [
    {
     "name": "stdout",
     "output_type": "stream",
     "text": [
      "The argument passed in is a 'Program' class.\n",
      "This is output defined in the 'Program' class.\n",
      "This is output defined in the 'Laptop' class.\n"
     ]
    },
    {
     "data": {
      "text/plain": [
       "\"Program\""
      ]
     },
     "execution_count": 21,
     "metadata": {},
     "output_type": "execute_result"
    }
   ],
   "source": [
    "laptop = Laptop.new()\n",
    "program = Program.new()\n",
    "\n",
    "laptop.print_OS_message_and_program_message(program)"
   ]
  },
  {
   "cell_type": "markdown",
   "metadata": {},
   "source": [
    "And you can even set an instance variable in the class to include the passed-in object from the other class even if it wasn't instantiated with it."
   ]
  },
  {
   "cell_type": "code",
   "execution_count": 22,
   "metadata": {},
   "outputs": [
    {
     "name": "stdout",
     "output_type": "stream",
     "text": [
      "The '@current_program' instance variable in the `Laptop` class has been set to: Program\n"
     ]
    }
   ],
   "source": [
    "puts \"The '@current_program' instance variable in the `Laptop` class has been set to: #{laptop.current_program}\""
   ]
  }
 ],
 "metadata": {
  "kernelspec": {
   "display_name": "Ruby 2.6.5",
   "language": "ruby",
   "name": "ruby"
  },
  "language_info": {
   "file_extension": ".rb",
   "mimetype": "application/x-ruby",
   "name": "ruby",
   "version": "2.6.5"
  }
 },
 "nbformat": 4,
 "nbformat_minor": 4
}
